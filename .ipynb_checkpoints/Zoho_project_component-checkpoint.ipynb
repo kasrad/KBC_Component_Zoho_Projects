{
 "cells": [
  {
   "cell_type": "code",
   "execution_count": null,
   "metadata": {},
   "outputs": [],
   "source": [
    "from datetime import datetime, timedelta\n",
    "import pytz\n",
    "import json\n",
    "import requests\n",
    "import pandas as pd\n",
    "import time \n",
    "import numpy as np\n",
    "from pandas.io.json import json_normalize\n",
    "# from keboola import docker"
   ]
  },
  {
   "cell_type": "code",
   "execution_count": null,
   "metadata": {},
   "outputs": [],
   "source": [
    "API_token = 'YOUR_API_TOKEN'\n",
    "parameters = {  'authtoken': API_token,\n",
    "                'flag': 'internal'}"
   ]
  },
  {
   "cell_type": "code",
   "execution_count": null,
   "metadata": {},
   "outputs": [],
   "source": [
    "def get_data_tasklists(target_df, endpoint, to_append, target_id = '', url = ''):\n",
    "    \n",
    "    if target_id != '':\n",
    "        url = url + str(target_id) + '/'\n",
    "    print(url)\n",
    "    req = requests.get(url = url, params = parameters)\n",
    "    df_tmp = json_normalize(req.json()[endpoint])\n",
    "    df_tmp['parent'] = to_append\n",
    "    \n",
    "    if target_df.empty:\n",
    "        target_df = df_tmp\n",
    "    else:\n",
    "        target_df = target_df.append(df_tmp)\n",
    "  \n",
    "    return(target_df)\n",
    "\n",
    "def get_data_projects(target_df, endpoint, to_append, target_id = '', url = ''):\n",
    "    \n",
    "    if target_id != '':\n",
    "        url = url + str(target_id) + '/'\n",
    "    print(url)\n",
    "    req = requests.get(url = url, params = parameters)\n",
    "    df_tmp = json_normalize(req.json()[endpoint][0])\n",
    "    df_tmp['parent'] = to_append\n",
    "    \n",
    "    if target_df.empty:\n",
    "        target_df = df_tmp\n",
    "    else:\n",
    "        target_df = target_df.append(df_tmp)\n",
    "  \n",
    "    return(target_df)\n",
    "        \n",
    "def get_data_tasks(target_df, endpoint, to_append, target_id = '', url = ''):\n",
    "    \n",
    "    if target_id != '':\n",
    "        url = url + str(target_id) + '/'\n",
    "    print(url)\n",
    "    req = requests.get(url = url, params = parameters)\n",
    "    if req.status_code == 204:\n",
    "        return(target_df)\n",
    "    else:\n",
    "        df_tmp = json_normalize(req.json()[endpoint][0])\n",
    "        df_tmp['parent1'] = to_append[0]\n",
    "        df_tmp['parent2'] = to_append[1]\n",
    "    \n",
    "    \n",
    "    if target_df.empty:\n",
    "        target_df = df_tmp\n",
    "    else:\n",
    "        target_df = target_df.append(df_tmp)\n",
    "  \n",
    "    return(target_df)\n",
    "        \n"
   ]
  },
  {
   "cell_type": "code",
   "execution_count": null,
   "metadata": {},
   "outputs": [],
   "source": [
    "url = 'https://projectsapi.zoho.eu/restapi/portal/20061034739/projects/'\n",
    "req = requests.get(url=url, params = parameters)\n",
    "projects_list = req.json()['projects']\n",
    "projects_list = [projects_list[i]['id'] for i in range(len(projects_list))]\n",
    "\n",
    "projects_info = pd.DataFrame(np.zeros((0,0)))\n",
    "for i in projects_list:\n",
    "    projects_info = get_data_projects(target_df = projects_info, target_id = i,\n",
    "                             url = url, endpoint = 'projects',\n",
    "                             to_append ='Keboola')    \n",
    "projects_info"
   ]
  },
  {
   "cell_type": "code",
   "execution_count": null,
   "metadata": {},
   "outputs": [],
   "source": [
    "tasks_info = pd.DataFrame(np.zeros((0,0)))\n",
    "for counter, i in enumerate(tasklists_info['link.task.url']):\n",
    "    tasks_info = get_data_tasks(target_df = tasks_info, url = i,\n",
    "                                endpoint = 'tasks',\n",
    "                                to_append = [tasklists_info['parent'].iloc[counter],\n",
    "                                             tasklists_info['id'].iloc[counter]])\n",
    "                                             \n",
    "tasks_info"
   ]
  },
  {
   "cell_type": "code",
   "execution_count": null,
   "metadata": {},
   "outputs": [],
   "source": [
    "tasklists_info = pd.DataFrame(np.zeros((0,0)))\n",
    "for counter, i in enumerate(projects_info['link.tasklist.url']):\n",
    "    tasklists_info = get_data_tasklists(target_df = tasklists_info, url = i,\n",
    "                              endpoint = 'tasklists', to_append = projects_info['id'].iloc[counter])\n",
    "    \n",
    "tasklists_info"
   ]
  },
  {
   "cell_type": "code",
   "execution_count": null,
   "metadata": {},
   "outputs": [],
   "source": [
    "projects_info.loc[projects_info.id == 15944000000206063, :].loc[:,'link.tasklist.url']"
   ]
  },
  {
   "cell_type": "code",
   "execution_count": null,
   "metadata": {},
   "outputs": [],
   "source": [
    "tasklists_info.iloc[30, :]"
   ]
  },
  {
   "cell_type": "code",
   "execution_count": null,
   "metadata": {},
   "outputs": [],
   "source": []
  },
  {
   "cell_type": "code",
   "execution_count": null,
   "metadata": {},
   "outputs": [],
   "source": [
    "\n",
    "def testy_mctestface(d):\n",
    "    if 'd' in locals():\n",
    "        print('hi')\n",
    "    else:\n",
    "        print('hello')"
   ]
  }
 ],
 "metadata": {
  "kernelspec": {
   "display_name": "Python [default]",
   "language": "python",
   "name": "python3"
  },
  "language_info": {
   "codemirror_mode": {
    "name": "ipython",
    "version": 3
   },
   "file_extension": ".py",
   "mimetype": "text/x-python",
   "name": "python",
   "nbconvert_exporter": "python",
   "pygments_lexer": "ipython3",
   "version": "3.6.4"
  }
 },
 "nbformat": 4,
 "nbformat_minor": 2
}
